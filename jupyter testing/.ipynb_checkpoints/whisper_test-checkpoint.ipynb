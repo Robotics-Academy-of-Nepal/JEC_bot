{
 "cells": [
  {
   "cell_type": "code",
   "execution_count": 2,
   "id": "ff2ab8f5-e29f-4ecd-9fb9-2dc1fea55c69",
   "metadata": {},
   "outputs": [
    {
     "name": "stdout",
     "output_type": "stream",
     "text": [
      "Using device: cuda\n"
     ]
    },
    {
     "name": "stderr",
     "output_type": "stream",
     "text": [
      "Special tokens have been added in the vocabulary, make sure the associated word embeddings are fine-tuned or trained.\n"
     ]
    },
    {
     "name": "stdout",
     "output_type": "stream",
     "text": [
      "Recording started...\n",
      "Recording finished.\n",
      "Transcription: [' What are the courses offered in Janakpur Engineering College?']\n"
     ]
    }
   ],
   "source": [
    "import sounddevice as sd\n",
    "import numpy as np\n",
    "import torch\n",
    "from transformers import WhisperProcessor, WhisperForConditionalGeneration\n",
    "import torchaudio\n",
    "\n",
    "# Check if a GPU is available and set the device\n",
    "device = torch.device(\"cuda\" if torch.cuda.is_available() else \"cpu\")\n",
    "print(f\"Using device: {device}\")\n",
    "\n",
    "# Load model and processor, move the model to the GPU\n",
    "processor = WhisperProcessor.from_pretrained(\"openai/whisper-medium\")\n",
    "model = WhisperForConditionalGeneration.from_pretrained(\"openai/whisper-medium\").to(device)\n",
    "model.config.forced_decoder_ids = None\n",
    "\n",
    "# Function to record audio from the microphone\n",
    "def record_audio(duration, sampling_rate):\n",
    "    print(\"Recording started...\")\n",
    "    audio = sd.rec(int(duration * sampling_rate), samplerate=sampling_rate, channels=1, dtype=\"float32\")\n",
    "    sd.wait()  # Wait until recording is finished\n",
    "    print(\"Recording finished.\")\n",
    "    return audio.squeeze()\n",
    "\n",
    "# Record audio from the microphone\n",
    "audio_data = record_audio(duration=5, sampling_rate=16000)\n",
    "\n",
    "# Preprocess the audio to extract features\n",
    "inputs = processor(audio_data, return_tensors=\"pt\", sampling_rate=16000, language = \"en\")\n",
    "inputs = {key: inputs[key].to(device) for key in inputs}\n",
    "\n",
    "# Use the model's generate method to produce predictions\n",
    "with torch.no_grad():\n",
    "    predicted_ids = model.generate(inputs[\"input_features\"])\n",
    "\n",
    "# Decode predicted token ids to text\n",
    "transcription = processor.batch_decode(predicted_ids, skip_special_tokens=True)\n",
    "\n",
    "print(\"Transcription:\", transcription)\n"
   ]
  },
  {
   "cell_type": "code",
   "execution_count": null,
   "id": "1c4d1a8c-a284-4d69-880e-fc1f165f7eaf",
   "metadata": {},
   "outputs": [],
   "source": []
  },
  {
   "cell_type": "code",
   "execution_count": null,
   "id": "40f58424-2549-4f18-9002-70b7c925cb17",
   "metadata": {},
   "outputs": [],
   "source": []
  }
 ],
 "metadata": {
  "kernelspec": {
   "display_name": "Python 3 (ipykernel)",
   "language": "python",
   "name": "python3"
  },
  "language_info": {
   "codemirror_mode": {
    "name": "ipython",
    "version": 3
   },
   "file_extension": ".py",
   "mimetype": "text/x-python",
   "name": "python",
   "nbconvert_exporter": "python",
   "pygments_lexer": "ipython3",
   "version": "3.9.0"
  }
 },
 "nbformat": 4,
 "nbformat_minor": 5
}
